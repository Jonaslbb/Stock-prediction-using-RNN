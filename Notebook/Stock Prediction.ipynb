{
  "nbformat": 4,
  "nbformat_minor": 0,
  "metadata": {
    "colab": {
      "name": "Stocks - m3",
      "provenance": [],
      "include_colab_link": true
    },
    "kernelspec": {
      "display_name": "Python 3",
      "name": "python3"
    },
    "accelerator": "GPU"
  },
  "cells": [
    {
      "cell_type": "markdown",
      "metadata": {
        "id": "view-in-github",
        "colab_type": "text"
      },
      "source": [
        "<a href=\"https://colab.research.google.com/github/Jonaslbb/Stock-prediction-using-RNN/blob/main/Notebook/Stock%20Prediction.ipynb\" target=\"_parent\"><img src=\"https://colab.research.google.com/assets/colab-badge.svg\" alt=\"Open In Colab\"/></a>"
      ]
    },
    {
      "cell_type": "code",
      "metadata": {
        "id": "2vVIc3lwlozm"
      },
      "source": [
        "# Kilder:\n",
        "# https://towardsdatascience.com/a-comprehensive-guide-to-downloading-stock-prices-in-python-2cd93ff821d4\n",
        "# https://pypi.org/project/yfinance/"
      ],
      "execution_count": null,
      "outputs": []
    },
    {
      "cell_type": "code",
      "metadata": {
        "colab": {
          "base_uri": "https://localhost:8080/"
        },
        "id": "roip2O1dG7rs",
        "outputId": "7256b905-fd05-454b-d139-9a6594c7aade"
      },
      "source": [
        "!pip install yfinance"
      ],
      "execution_count": null,
      "outputs": [
        {
          "output_type": "stream",
          "text": [
            "Collecting yfinance\n",
            "  Downloading https://files.pythonhosted.org/packages/7a/e8/b9d7104d3a4bf39924799067592d9e59119fcfc900a425a12e80a3123ec8/yfinance-0.1.55.tar.gz\n",
            "Requirement already satisfied: pandas>=0.24 in /usr/local/lib/python3.6/dist-packages (from yfinance) (1.1.5)\n",
            "Requirement already satisfied: numpy>=1.15 in /usr/local/lib/python3.6/dist-packages (from yfinance) (1.18.5)\n",
            "Requirement already satisfied: requests>=2.20 in /usr/local/lib/python3.6/dist-packages (from yfinance) (2.23.0)\n",
            "Requirement already satisfied: multitasking>=0.0.7 in /usr/local/lib/python3.6/dist-packages (from yfinance) (0.0.9)\n",
            "Collecting lxml>=4.5.1\n",
            "\u001b[?25l  Downloading https://files.pythonhosted.org/packages/bd/78/56a7c88a57d0d14945472535d0df9fb4bbad7d34ede658ec7961635c790e/lxml-4.6.2-cp36-cp36m-manylinux1_x86_64.whl (5.5MB)\n",
            "\u001b[K     |████████████████████████████████| 5.5MB 31.0MB/s \n",
            "\u001b[?25hRequirement already satisfied: python-dateutil>=2.7.3 in /usr/local/lib/python3.6/dist-packages (from pandas>=0.24->yfinance) (2.8.1)\n",
            "Requirement already satisfied: pytz>=2017.2 in /usr/local/lib/python3.6/dist-packages (from pandas>=0.24->yfinance) (2018.9)\n",
            "Requirement already satisfied: idna<3,>=2.5 in /usr/local/lib/python3.6/dist-packages (from requests>=2.20->yfinance) (2.10)\n",
            "Requirement already satisfied: urllib3!=1.25.0,!=1.25.1,<1.26,>=1.21.1 in /usr/local/lib/python3.6/dist-packages (from requests>=2.20->yfinance) (1.24.3)\n",
            "Requirement already satisfied: certifi>=2017.4.17 in /usr/local/lib/python3.6/dist-packages (from requests>=2.20->yfinance) (2020.12.5)\n",
            "Requirement already satisfied: chardet<4,>=3.0.2 in /usr/local/lib/python3.6/dist-packages (from requests>=2.20->yfinance) (3.0.4)\n",
            "Requirement already satisfied: six>=1.5 in /usr/local/lib/python3.6/dist-packages (from python-dateutil>=2.7.3->pandas>=0.24->yfinance) (1.15.0)\n",
            "Building wheels for collected packages: yfinance\n",
            "  Building wheel for yfinance (setup.py) ... \u001b[?25l\u001b[?25hdone\n",
            "  Created wheel for yfinance: filename=yfinance-0.1.55-py2.py3-none-any.whl size=22615 sha256=ad1a794d26c7bdffff970406c3f100e8ec5554a83b97dcefa4913286afefe43f\n",
            "  Stored in directory: /root/.cache/pip/wheels/04/98/cc/2702a4242d60bdc14f48b4557c427ded1fe92aedf257d4565c\n",
            "Successfully built yfinance\n",
            "Installing collected packages: lxml, yfinance\n",
            "  Found existing installation: lxml 4.2.6\n",
            "    Uninstalling lxml-4.2.6:\n",
            "      Successfully uninstalled lxml-4.2.6\n",
            "Successfully installed lxml-4.6.2 yfinance-0.1.55\n"
          ],
          "name": "stdout"
        }
      ]
    },
    {
      "cell_type": "code",
      "metadata": {
        "id": "ytyWFVYhhN8w"
      },
      "source": [
        "import pandas as pd\n",
        "from pandas_datareader import data as web\n",
        "from yfinance import Ticker\n",
        "import datetime\n",
        "import yfinance as yf"
      ],
      "execution_count": null,
      "outputs": []
    },
    {
      "cell_type": "code",
      "metadata": {
        "id": "FJ-OCc0HFZ5I"
      },
      "source": [
        "stock = 'AMZN'\n",
        "start_date = (datetime.datetime.now() - datetime.timedelta(days=1000)).strftime(\"%Y-%m-%d\")\n",
        "end_date = datetime.datetime.now().strftime(\"%Y-%m-%d\")"
      ],
      "execution_count": null,
      "outputs": []
    },
    {
      "cell_type": "code",
      "metadata": {
        "id": "mDGs-I-dFoBp"
      },
      "source": [
        "df = yf.download(stock, start=start_date, end=end_date, progress=False, interval='1d')"
      ],
      "execution_count": null,
      "outputs": []
    },
    {
      "cell_type": "code",
      "metadata": {
        "id": "QoUhAgi-KNwE"
      },
      "source": [
        "df.columns = [w.lower() for w in df.columns]"
      ],
      "execution_count": null,
      "outputs": []
    },
    {
      "cell_type": "code",
      "metadata": {
        "id": "aEggogdNkcTA"
      },
      "source": [
        "df['movement'] = df.close - df.open"
      ],
      "execution_count": null,
      "outputs": []
    },
    {
      "cell_type": "code",
      "metadata": {
        "id": "lgi89Su2Hqj1"
      },
      "source": [
        "ticker = yf.Ticker(stock)"
      ],
      "execution_count": null,
      "outputs": []
    },
    {
      "cell_type": "code",
      "metadata": {
        "colab": {
          "base_uri": "https://localhost:8080/",
          "height": 450
        },
        "id": "atTijBwWkXLY",
        "outputId": "972bf2d4-3297-44c6-c65c-50f920c6001f"
      },
      "source": [
        "recom = ticker.recommendations\n",
        "recom"
      ],
      "execution_count": null,
      "outputs": [
        {
          "output_type": "execute_result",
          "data": {
            "text/html": [
              "<div>\n",
              "<style scoped>\n",
              "    .dataframe tbody tr th:only-of-type {\n",
              "        vertical-align: middle;\n",
              "    }\n",
              "\n",
              "    .dataframe tbody tr th {\n",
              "        vertical-align: top;\n",
              "    }\n",
              "\n",
              "    .dataframe thead th {\n",
              "        text-align: right;\n",
              "    }\n",
              "</style>\n",
              "<table border=\"1\" class=\"dataframe\">\n",
              "  <thead>\n",
              "    <tr style=\"text-align: right;\">\n",
              "      <th></th>\n",
              "      <th>Firm</th>\n",
              "      <th>To Grade</th>\n",
              "      <th>From Grade</th>\n",
              "      <th>Action</th>\n",
              "    </tr>\n",
              "    <tr>\n",
              "      <th>Date</th>\n",
              "      <th></th>\n",
              "      <th></th>\n",
              "      <th></th>\n",
              "      <th></th>\n",
              "    </tr>\n",
              "  </thead>\n",
              "  <tbody>\n",
              "    <tr>\n",
              "      <th>2011-12-29 12:47:00</th>\n",
              "      <td>PiperJaffray</td>\n",
              "      <td></td>\n",
              "      <td></td>\n",
              "      <td>main</td>\n",
              "    </tr>\n",
              "    <tr>\n",
              "      <th>2012-02-15 07:33:00</th>\n",
              "      <td>PiperJaffray</td>\n",
              "      <td>Overweight</td>\n",
              "      <td></td>\n",
              "      <td>main</td>\n",
              "    </tr>\n",
              "    <tr>\n",
              "      <th>2012-02-16 06:17:00</th>\n",
              "      <td>Morgan Stanley</td>\n",
              "      <td>Equal-Weight</td>\n",
              "      <td></td>\n",
              "      <td>down</td>\n",
              "    </tr>\n",
              "    <tr>\n",
              "      <th>2012-04-02 06:06:00</th>\n",
              "      <td>Bank oferica</td>\n",
              "      <td>Neutral</td>\n",
              "      <td></td>\n",
              "      <td>down</td>\n",
              "    </tr>\n",
              "    <tr>\n",
              "      <th>2012-04-27 06:21:00</th>\n",
              "      <td>Bank oferica</td>\n",
              "      <td>Buy</td>\n",
              "      <td></td>\n",
              "      <td>up</td>\n",
              "    </tr>\n",
              "    <tr>\n",
              "      <th>...</th>\n",
              "      <td>...</td>\n",
              "      <td>...</td>\n",
              "      <td>...</td>\n",
              "      <td>...</td>\n",
              "    </tr>\n",
              "    <tr>\n",
              "      <th>2020-10-30 12:31:05</th>\n",
              "      <td>Credit Suisse</td>\n",
              "      <td>Outperform</td>\n",
              "      <td></td>\n",
              "      <td>main</td>\n",
              "    </tr>\n",
              "    <tr>\n",
              "      <th>2020-10-30 16:53:12</th>\n",
              "      <td>Piper Sandler</td>\n",
              "      <td>Overweight</td>\n",
              "      <td></td>\n",
              "      <td>main</td>\n",
              "    </tr>\n",
              "    <tr>\n",
              "      <th>2020-10-30 17:12:40</th>\n",
              "      <td>Benchmark</td>\n",
              "      <td>Buy</td>\n",
              "      <td></td>\n",
              "      <td>main</td>\n",
              "    </tr>\n",
              "    <tr>\n",
              "      <th>2020-11-03 16:15:15</th>\n",
              "      <td>Citigroup</td>\n",
              "      <td>Buy</td>\n",
              "      <td></td>\n",
              "      <td>main</td>\n",
              "    </tr>\n",
              "    <tr>\n",
              "      <th>2020-11-04 11:58:33</th>\n",
              "      <td>China Renaissance</td>\n",
              "      <td>Buy</td>\n",
              "      <td>Hold</td>\n",
              "      <td>up</td>\n",
              "    </tr>\n",
              "  </tbody>\n",
              "</table>\n",
              "<p>401 rows × 4 columns</p>\n",
              "</div>"
            ],
            "text/plain": [
              "                                  Firm      To Grade From Grade Action\n",
              "Date                                                                  \n",
              "2011-12-29 12:47:00       PiperJaffray                            main\n",
              "2012-02-15 07:33:00       PiperJaffray    Overweight              main\n",
              "2012-02-16 06:17:00     Morgan Stanley  Equal-Weight              down\n",
              "2012-04-02 06:06:00       Bank oferica       Neutral              down\n",
              "2012-04-27 06:21:00       Bank oferica           Buy                up\n",
              "...                                ...           ...        ...    ...\n",
              "2020-10-30 12:31:05      Credit Suisse    Outperform              main\n",
              "2020-10-30 16:53:12      Piper Sandler    Overweight              main\n",
              "2020-10-30 17:12:40          Benchmark           Buy              main\n",
              "2020-11-03 16:15:15          Citigroup           Buy              main\n",
              "2020-11-04 11:58:33  China Renaissance           Buy       Hold     up\n",
              "\n",
              "[401 rows x 4 columns]"
            ]
          },
          "metadata": {
            "tags": []
          },
          "execution_count": 9
        }
      ]
    },
    {
      "cell_type": "markdown",
      "metadata": {
        "id": "nh-PnEWvulu6"
      },
      "source": [
        "Since we want to predict the closing stock price for the following day, we just shift the closing price one day to get our y value."
      ]
    },
    {
      "cell_type": "code",
      "metadata": {
        "id": "KwAIxf2kYYTI"
      },
      "source": [
        "df['close_y'] = df['close'].shift(-1, fill_value=df['close'].iloc[-1])"
      ],
      "execution_count": null,
      "outputs": []
    },
    {
      "cell_type": "code",
      "metadata": {
        "colab": {
          "base_uri": "https://localhost:8080/",
          "height": 235
        },
        "id": "jdlotnR_teYC",
        "outputId": "250aa6c8-0675-41a0-bc54-d89dfe3e78c8"
      },
      "source": [
        "df.head()"
      ],
      "execution_count": null,
      "outputs": [
        {
          "output_type": "execute_result",
          "data": {
            "text/html": [
              "<div>\n",
              "<style scoped>\n",
              "    .dataframe tbody tr th:only-of-type {\n",
              "        vertical-align: middle;\n",
              "    }\n",
              "\n",
              "    .dataframe tbody tr th {\n",
              "        vertical-align: top;\n",
              "    }\n",
              "\n",
              "    .dataframe thead th {\n",
              "        text-align: right;\n",
              "    }\n",
              "</style>\n",
              "<table border=\"1\" class=\"dataframe\">\n",
              "  <thead>\n",
              "    <tr style=\"text-align: right;\">\n",
              "      <th></th>\n",
              "      <th>open</th>\n",
              "      <th>high</th>\n",
              "      <th>low</th>\n",
              "      <th>close</th>\n",
              "      <th>adj close</th>\n",
              "      <th>volume</th>\n",
              "      <th>movement</th>\n",
              "      <th>close_y</th>\n",
              "    </tr>\n",
              "    <tr>\n",
              "      <th>Date</th>\n",
              "      <th></th>\n",
              "      <th></th>\n",
              "      <th></th>\n",
              "      <th></th>\n",
              "      <th></th>\n",
              "      <th></th>\n",
              "      <th></th>\n",
              "      <th></th>\n",
              "    </tr>\n",
              "  </thead>\n",
              "  <tbody>\n",
              "    <tr>\n",
              "      <th>2018-03-19</th>\n",
              "      <td>1554.530029</td>\n",
              "      <td>1561.660034</td>\n",
              "      <td>1525.349976</td>\n",
              "      <td>1544.930054</td>\n",
              "      <td>1544.930054</td>\n",
              "      <td>6580800</td>\n",
              "      <td>-9.599976</td>\n",
              "      <td>1586.510010</td>\n",
              "    </tr>\n",
              "    <tr>\n",
              "      <th>2018-03-20</th>\n",
              "      <td>1550.339966</td>\n",
              "      <td>1587.000000</td>\n",
              "      <td>1545.410034</td>\n",
              "      <td>1586.510010</td>\n",
              "      <td>1586.510010</td>\n",
              "      <td>4581600</td>\n",
              "      <td>36.170044</td>\n",
              "      <td>1581.859985</td>\n",
              "    </tr>\n",
              "    <tr>\n",
              "      <th>2018-03-21</th>\n",
              "      <td>1586.449951</td>\n",
              "      <td>1590.000000</td>\n",
              "      <td>1563.170044</td>\n",
              "      <td>1581.859985</td>\n",
              "      <td>1581.859985</td>\n",
              "      <td>4750800</td>\n",
              "      <td>-4.589966</td>\n",
              "      <td>1544.920044</td>\n",
              "    </tr>\n",
              "    <tr>\n",
              "      <th>2018-03-22</th>\n",
              "      <td>1565.469971</td>\n",
              "      <td>1573.849976</td>\n",
              "      <td>1542.400024</td>\n",
              "      <td>1544.920044</td>\n",
              "      <td>1544.920044</td>\n",
              "      <td>6320600</td>\n",
              "      <td>-20.549927</td>\n",
              "      <td>1495.560059</td>\n",
              "    </tr>\n",
              "    <tr>\n",
              "      <th>2018-03-23</th>\n",
              "      <td>1539.010010</td>\n",
              "      <td>1549.020020</td>\n",
              "      <td>1495.359985</td>\n",
              "      <td>1495.560059</td>\n",
              "      <td>1495.560059</td>\n",
              "      <td>8006000</td>\n",
              "      <td>-43.449951</td>\n",
              "      <td>1555.859985</td>\n",
              "    </tr>\n",
              "  </tbody>\n",
              "</table>\n",
              "</div>"
            ],
            "text/plain": [
              "                   open         high  ...   movement      close_y\n",
              "Date                                  ...                        \n",
              "2018-03-19  1554.530029  1561.660034  ...  -9.599976  1586.510010\n",
              "2018-03-20  1550.339966  1587.000000  ...  36.170044  1581.859985\n",
              "2018-03-21  1586.449951  1590.000000  ...  -4.589966  1544.920044\n",
              "2018-03-22  1565.469971  1573.849976  ... -20.549927  1495.560059\n",
              "2018-03-23  1539.010010  1549.020020  ... -43.449951  1555.859985\n",
              "\n",
              "[5 rows x 8 columns]"
            ]
          },
          "metadata": {
            "tags": []
          },
          "execution_count": 11
        }
      ]
    },
    {
      "cell_type": "markdown",
      "metadata": {
        "id": "Z0sRZLx-viEr"
      },
      "source": [
        "Since we are working with sequential data, we dont use train_test_split. Insted we pick the first 80% of obersavations as training set, and the remaning as testing set."
      ]
    },
    {
      "cell_type": "code",
      "metadata": {
        "id": "tGpJjtq2XCSx"
      },
      "source": [
        "test_size = int(len(df) * 0.2)\n",
        "train = df.iloc[:-test_size,:].copy() \n",
        "test = df.iloc[-test_size:,:].copy()"
      ],
      "execution_count": null,
      "outputs": []
    },
    {
      "cell_type": "markdown",
      "metadata": {
        "id": "pDHMZ2ygv8zl"
      },
      "source": [
        "We split the dataset into x values and y values. We also specify .values, since the date is not relevant for the training and dosn't work with some of the later preprocessing"
      ]
    },
    {
      "cell_type": "code",
      "metadata": {
        "id": "TxR30dN2XQgv"
      },
      "source": [
        "X_train = train.iloc[:,:-1].values\n",
        "y_train = train.iloc[:,-1].values\n",
        "\n",
        "X_test = test.iloc[:,:-1].values\n",
        "y_test = test.iloc[:,-1].values"
      ],
      "execution_count": null,
      "outputs": []
    },
    {
      "cell_type": "code",
      "metadata": {
        "id": "w-F9n-FKaNhV"
      },
      "source": [
        "from sklearn.preprocessing import MinMaxScaler"
      ],
      "execution_count": null,
      "outputs": []
    },
    {
      "cell_type": "markdown",
      "metadata": {
        "id": "zTPIlToqxT-X"
      },
      "source": [
        "We scale all our values to be between -1 and 1. This should help the accuracy of the model."
      ]
    },
    {
      "cell_type": "code",
      "metadata": {
        "id": "uMY79ZABaJo8"
      },
      "source": [
        "x_scaler = MinMaxScaler(feature_range=(-1, 1))\n",
        "y_scaler = MinMaxScaler(feature_range=(-1, 1))"
      ],
      "execution_count": null,
      "outputs": []
    },
    {
      "cell_type": "code",
      "metadata": {
        "id": "4kgPnMaAaOsj"
      },
      "source": [
        "X_train = x_scaler.fit_transform(X_train)\n",
        "y_train = y_scaler.fit_transform(y_train.reshape(-1,1))\n",
        "\n",
        "\n",
        "X_test = x_scaler.transform(X_test)\n",
        "y_test = y_scaler.transform(y_test.reshape(-1,1))\n"
      ],
      "execution_count": null,
      "outputs": []
    },
    {
      "cell_type": "code",
      "metadata": {
        "id": "9N1Qmkvbafi0"
      },
      "source": [
        "from keras.preprocessing.sequence import TimeseriesGenerator"
      ],
      "execution_count": null,
      "outputs": []
    },
    {
      "cell_type": "markdown",
      "metadata": {
        "id": "nEVkSS3ZxrRp"
      },
      "source": [
        "Now we start making our RNN model. \n",
        "\n",
        "n_input = how many days we look in the past to predict the next sample. We chose 20 mostly by trial and error.\n",
        "\n",
        "We set epochs to 100. It's our experience that the more you train the model, the more it will try to predict the daily volatility. If we only trained it for eg. 10 epochs, the model would make a soft curve which didn't look like a real stock development. By trail and error we found 100 to be the best training amount."
      ]
    },
    {
      "cell_type": "code",
      "metadata": {
        "id": "utykwCALadZB"
      },
      "source": [
        "n_input = 20\n",
        "n_features= X_train.shape[1] # how many predictors/Xs/features we have to predict y\n",
        "b_size = 30 # Number of timeseries samples in each batch\n",
        "epochs = 100\n",
        "generator = TimeseriesGenerator(X_train, y_train, length=n_input, batch_size=b_size)"
      ],
      "execution_count": null,
      "outputs": []
    },
    {
      "cell_type": "code",
      "metadata": {
        "colab": {
          "base_uri": "https://localhost:8080/"
        },
        "id": "vZ3cir1rfpRN",
        "outputId": "803645c1-376b-48cb-c6d5-1fd9570f1aa0"
      },
      "source": [
        "print(generator[0][0].shape)"
      ],
      "execution_count": null,
      "outputs": [
        {
          "output_type": "stream",
          "text": [
            "(30, 20, 7)\n"
          ],
          "name": "stdout"
        }
      ]
    },
    {
      "cell_type": "code",
      "metadata": {
        "id": "fxYbjN9WbY3o"
      },
      "source": [
        "import numpy as np"
      ],
      "execution_count": null,
      "outputs": []
    },
    {
      "cell_type": "code",
      "metadata": {
        "colab": {
          "base_uri": "https://localhost:8080/"
        },
        "id": "XYc7SgejbUXK",
        "outputId": "f8535576-ccf6-4783-d1f6-d8fe08238012"
      },
      "source": [
        "test_generator = TimeseriesGenerator(X_test, np.zeros(len(X_test)), length=n_input, batch_size=b_size)\n",
        "print(test_generator[0][0].shape)"
      ],
      "execution_count": null,
      "outputs": [
        {
          "output_type": "stream",
          "text": [
            "(30, 20, 7)\n"
          ],
          "name": "stdout"
        }
      ]
    },
    {
      "cell_type": "code",
      "metadata": {
        "id": "Ao5kR8nPaq1l"
      },
      "source": [
        "import keras\n",
        "from keras.models import Sequential\n",
        "from keras.layers import Dense\n",
        "from keras.layers import LSTM\n",
        "from keras.layers import Dropout"
      ],
      "execution_count": null,
      "outputs": []
    },
    {
      "cell_type": "markdown",
      "metadata": {
        "id": "4m7-UV5c9gIx"
      },
      "source": [
        "Since we are working with sequential stock data we chose an LSTM model, which is a RNN model.\n",
        "Activation function is set to relu, and optimizer is adam, since these are the standard for this kind of task.\n",
        "We chose 2 layers with 50 units each, and once again done by trial and error.\n",
        "\n",
        "Since we want to predict the actual stock price we use mse(mean squared error) as our loss fuction."
      ]
    },
    {
      "cell_type": "code",
      "metadata": {
        "colab": {
          "base_uri": "https://localhost:8080/"
        },
        "id": "Bv9kBQ-OatKf",
        "outputId": "1ba402b0-910a-4406-f00c-124bcc73d647"
      },
      "source": [
        "model = Sequential()\n",
        "model.add(LSTM(50, activation='relu',return_sequences=True, input_shape=(n_input, n_features)))\n",
        "model.add(LSTM(50, activation='relu'))\n",
        "model.add(Dense(1))\n",
        "model.compile(optimizer='adam', loss='mse')\n",
        "model.summary()"
      ],
      "execution_count": null,
      "outputs": [
        {
          "output_type": "stream",
          "text": [
            "WARNING:tensorflow:Layer lstm will not use cuDNN kernel since it doesn't meet the cuDNN kernel criteria. It will use generic GPU kernel as fallback when running on GPU\n",
            "WARNING:tensorflow:Layer lstm_1 will not use cuDNN kernel since it doesn't meet the cuDNN kernel criteria. It will use generic GPU kernel as fallback when running on GPU\n",
            "Model: \"sequential\"\n",
            "_________________________________________________________________\n",
            "Layer (type)                 Output Shape              Param #   \n",
            "=================================================================\n",
            "lstm (LSTM)                  (None, 20, 50)            11600     \n",
            "_________________________________________________________________\n",
            "lstm_1 (LSTM)                (None, 50)                20200     \n",
            "_________________________________________________________________\n",
            "dense (Dense)                (None, 1)                 51        \n",
            "=================================================================\n",
            "Total params: 31,851\n",
            "Trainable params: 31,851\n",
            "Non-trainable params: 0\n",
            "_________________________________________________________________\n"
          ],
          "name": "stdout"
        }
      ]
    },
    {
      "cell_type": "code",
      "metadata": {
        "id": "sA7G_XY0a11w"
      },
      "source": [
        "model.fit(generator,epochs=epochs,verbose=1,validation_data=test_generator)"
      ],
      "execution_count": null,
      "outputs": []
    },
    {
      "cell_type": "code",
      "metadata": {
        "id": "fq67YpWQbCRL"
      },
      "source": [
        "import matplotlib.pyplot as plt"
      ],
      "execution_count": null,
      "outputs": []
    },
    {
      "cell_type": "markdown",
      "metadata": {
        "id": "mfxayDqTMJEU"
      },
      "source": [
        "This looks like overfitting, but it works the best in our case."
      ]
    },
    {
      "cell_type": "code",
      "metadata": {
        "colab": {
          "base_uri": "https://localhost:8080/",
          "height": 268
        },
        "id": "iXILfC3mbAoL",
        "outputId": "570b9e41-246c-4694-a9c5-be84867e059f"
      },
      "source": [
        "loss_per_epoch = model.history.history['loss']\n",
        "plt.plot(range(len(loss_per_epoch)),loss_per_epoch);"
      ],
      "execution_count": null,
      "outputs": [
        {
          "output_type": "display_data",
          "data": {
            "image/png": "[encoded data removed]",
            "text/plain": [
              "<Figure size 432x288 with 1 Axes>"
            ]
          },
          "metadata": {
            "tags": [],
            "needs_background": "light"
          }
        }
      ]
    },
    {
      "cell_type": "code",
      "metadata": {
        "colab": {
          "base_uri": "https://localhost:8080/",
          "height": 419
        },
        "id": "sk4a-T-fdVTQ",
        "outputId": "7847c071-5f8f-43d6-9559-c3dd25e7b81a"
      },
      "source": [
        "pd.DataFrame(X_test)"
      ],
      "execution_count": null,
      "outputs": [
        {
          "output_type": "execute_result",
          "data": {
            "text/html": [
              "<div>\n",
              "<style scoped>\n",
              "    .dataframe tbody tr th:only-of-type {\n",
              "        vertical-align: middle;\n",
              "    }\n",
              "\n",
              "    .dataframe tbody tr th {\n",
              "        vertical-align: top;\n",
              "    }\n",
              "\n",
              "    .dataframe thead th {\n",
              "        text-align: right;\n",
              "    }\n",
              "</style>\n",
              "<table border=\"1\" class=\"dataframe\">\n",
              "  <thead>\n",
              "    <tr style=\"text-align: right;\">\n",
              "      <th></th>\n",
              "      <th>0</th>\n",
              "      <th>1</th>\n",
              "      <th>2</th>\n",
              "      <th>3</th>\n",
              "      <th>4</th>\n",
              "      <th>5</th>\n",
              "      <th>6</th>\n",
              "    </tr>\n",
              "  </thead>\n",
              "  <tbody>\n",
              "    <tr>\n",
              "      <th>0</th>\n",
              "      <td>0.854315</td>\n",
              "      <td>0.852881</td>\n",
              "      <td>0.880941</td>\n",
              "      <td>0.903690</td>\n",
              "      <td>0.903690</td>\n",
              "      <td>-0.639384</td>\n",
              "      <td>0.180448</td>\n",
              "    </tr>\n",
              "    <tr>\n",
              "      <th>1</th>\n",
              "      <td>0.909879</td>\n",
              "      <td>0.914080</td>\n",
              "      <td>0.960182</td>\n",
              "      <td>0.953379</td>\n",
              "      <td>0.953379</td>\n",
              "      <td>-0.721149</td>\n",
              "      <td>0.153326</td>\n",
              "    </tr>\n",
              "    <tr>\n",
              "      <th>2</th>\n",
              "      <td>0.942808</td>\n",
              "      <td>0.908059</td>\n",
              "      <td>0.962147</td>\n",
              "      <td>0.955753</td>\n",
              "      <td>0.955753</td>\n",
              "      <td>-0.775487</td>\n",
              "      <td>0.012279</td>\n",
              "    </tr>\n",
              "    <tr>\n",
              "      <th>3</th>\n",
              "      <td>0.944558</td>\n",
              "      <td>0.933683</td>\n",
              "      <td>0.989485</td>\n",
              "      <td>0.966135</td>\n",
              "      <td>0.966135</td>\n",
              "      <td>-0.756271</td>\n",
              "      <td>0.052121</td>\n",
              "    </tr>\n",
              "    <tr>\n",
              "      <th>4</th>\n",
              "      <td>0.960884</td>\n",
              "      <td>0.968285</td>\n",
              "      <td>0.970248</td>\n",
              "      <td>0.935285</td>\n",
              "      <td>0.935285</td>\n",
              "      <td>-0.718453</td>\n",
              "      <td>-0.165646</td>\n",
              "    </tr>\n",
              "    <tr>\n",
              "      <th>...</th>\n",
              "      <td>...</td>\n",
              "      <td>...</td>\n",
              "      <td>...</td>\n",
              "      <td>...</td>\n",
              "      <td>...</td>\n",
              "      <td>...</td>\n",
              "      <td>...</td>\n",
              "    </tr>\n",
              "    <tr>\n",
              "      <th>133</th>\n",
              "      <td>2.137747</td>\n",
              "      <td>2.160437</td>\n",
              "      <td>2.162522</td>\n",
              "      <td>2.143971</td>\n",
              "      <td>2.143971</td>\n",
              "      <td>-0.745336</td>\n",
              "      <td>-0.018841</td>\n",
              "    </tr>\n",
              "    <tr>\n",
              "      <th>134</th>\n",
              "      <td>2.141941</td>\n",
              "      <td>2.166404</td>\n",
              "      <td>2.125169</td>\n",
              "      <td>2.177404</td>\n",
              "      <td>2.177404</td>\n",
              "      <td>-0.672477</td>\n",
              "      <td>0.116125</td>\n",
              "    </tr>\n",
              "    <tr>\n",
              "      <th>135</th>\n",
              "      <td>2.157521</td>\n",
              "      <td>2.149227</td>\n",
              "      <td>2.069975</td>\n",
              "      <td>2.050729</td>\n",
              "      <td>2.050729</td>\n",
              "      <td>-0.561555</td>\n",
              "      <td>-0.540541</td>\n",
              "    </tr>\n",
              "    <tr>\n",
              "      <th>136</th>\n",
              "      <td>2.020780</td>\n",
              "      <td>2.091977</td>\n",
              "      <td>2.049290</td>\n",
              "      <td>2.046032</td>\n",
              "      <td>2.046032</td>\n",
              "      <td>-0.707354</td>\n",
              "      <td>0.069002</td>\n",
              "    </tr>\n",
              "    <tr>\n",
              "      <th>137</th>\n",
              "      <td>2.034073</td>\n",
              "      <td>2.050486</td>\n",
              "      <td>2.043809</td>\n",
              "      <td>2.071908</td>\n",
              "      <td>2.071908</td>\n",
              "      <td>-0.702982</td>\n",
              "      <td>0.127085</td>\n",
              "    </tr>\n",
              "  </tbody>\n",
              "</table>\n",
              "<p>138 rows × 7 columns</p>\n",
              "</div>"
            ],
            "text/plain": [
              "            0         1         2         3         4         5         6\n",
              "0    0.854315  0.852881  0.880941  0.903690  0.903690 -0.639384  0.180448\n",
              "1    0.909879  0.914080  0.960182  0.953379  0.953379 -0.721149  0.153326\n",
              "2    0.942808  0.908059  0.962147  0.955753  0.955753 -0.775487  0.012279\n",
              "3    0.944558  0.933683  0.989485  0.966135  0.966135 -0.756271  0.052121\n",
              "4    0.960884  0.968285  0.970248  0.935285  0.935285 -0.718453 -0.165646\n",
              "..        ...       ...       ...       ...       ...       ...       ...\n",
              "133  2.137747  2.160437  2.162522  2.143971  2.143971 -0.745336 -0.018841\n",
              "134  2.141941  2.166404  2.125169  2.177404  2.177404 -0.672477  0.116125\n",
              "135  2.157521  2.149227  2.069975  2.050729  2.050729 -0.561555 -0.540541\n",
              "136  2.020780  2.091977  2.049290  2.046032  2.046032 -0.707354  0.069002\n",
              "137  2.034073  2.050486  2.043809  2.071908  2.071908 -0.702982  0.127085\n",
              "\n",
              "[138 rows x 7 columns]"
            ]
          },
          "metadata": {
            "tags": []
          },
          "execution_count": 27
        }
      ]
    },
    {
      "cell_type": "markdown",
      "metadata": {
        "id": "fpS5IOM_Ftp1"
      },
      "source": [
        "Then we do some data processing to get it back to the orginal format, so we can compare the real data to the predictions."
      ]
    },
    {
      "cell_type": "code",
      "metadata": {
        "colab": {
          "base_uri": "https://localhost:8080/"
        },
        "id": "cYdKlL4ub6zR",
        "outputId": "f3342b43-d628-4ffd-9dc8-0295429ea931"
      },
      "source": [
        "y_pred_scaled = model.predict(test_generator)\n",
        "y_pred = y_scaler.inverse_transform(y_pred_scaled)\n",
        "y_test = y_scaler.inverse_transform(y_test)\n",
        "results = pd.DataFrame({'y_true':y_test.flatten()[n_input:],'y_pred':y_pred.flatten()})\n",
        "print(results)"
      ],
      "execution_count": null,
      "outputs": [
        {
          "output_type": "stream",
          "text": [
            "          y_true       y_pred\n",
            "0    2680.379883  2718.393555\n",
            "1    2758.820068  2681.164062\n",
            "2    2878.699951  2678.015381\n",
            "3    2890.300049  2723.872070\n",
            "4    3057.040039  2806.628418\n",
            "..           ...          ...\n",
            "113  3177.290039  3187.205078\n",
            "114  3104.199951  3196.122559\n",
            "115  3101.489990  3211.480957\n",
            "116  3116.419922  3157.575439\n",
            "117  3116.419922  3169.283936\n",
            "\n",
            "[118 rows x 2 columns]\n"
          ],
          "name": "stdout"
        }
      ]
    },
    {
      "cell_type": "code",
      "metadata": {
        "colab": {
          "base_uri": "https://localhost:8080/"
        },
        "id": "BEgiq3_L5ViP",
        "outputId": "ce9f27be-3d81-4944-9045-be86354e1e21"
      },
      "source": [
        "model.evaluate(test_generator)"
      ],
      "execution_count": null,
      "outputs": [
        {
          "output_type": "stream",
          "text": [
            "4/4 [==============================] - 0s 6ms/step - loss: 4.5979\n"
          ],
          "name": "stdout"
        },
        {
          "output_type": "execute_result",
          "data": {
            "text/plain": [
              "4.59794282913208"
            ]
          },
          "metadata": {
            "tags": []
          },
          "execution_count": 29
        }
      ]
    },
    {
      "cell_type": "markdown",
      "metadata": {
        "id": "BTriiKUfF312"
      },
      "source": [
        "Looks like the predictions follow the real data to some extent. It follows most of the ups and downs, but doesn't predict that well overall. Also, the model is not very consistant - sometimes it's pretty good and other times it's way off. This alone probably removes any kind of usefullnes for actually trading stocks based on this."
      ]
    },
    {
      "cell_type": "code",
      "metadata": {
        "colab": {
          "base_uri": "https://localhost:8080/",
          "height": 282
        },
        "id": "PRaUtsJwlCDc",
        "outputId": "09f8a29e-16a3-418b-f1de-42dee6b8044c"
      },
      "source": [
        "results.plot()"
      ],
      "execution_count": null,
      "outputs": [
        {
          "output_type": "execute_result",
          "data": {
            "text/plain": [
              "<matplotlib.axes._subplots.AxesSubplot at 0x7f9cef73d7b8>"
            ]
          },
          "metadata": {
            "tags": []
          },
          "execution_count": 30
        },
        {
          "output_type": "display_data",
          "data": {
            "image/png": "[encoded data removed]",
            "text/plain": [
              "<Figure size 432x288 with 1 Axes>"
            ]
          },
          "metadata": {
            "tags": [],
            "needs_background": "light"
          }
        }
      ]
    },
    {
      "cell_type": "code",
      "metadata": {
        "id": "jq3cfcZOlsgP"
      },
      "source": [
        "results[\"difference\"] = results[\"y_true\"]-results[\"y_pred\"]"
      ],
      "execution_count": null,
      "outputs": []
    },
    {
      "cell_type": "code",
      "metadata": {
        "id": "2lV9zj0SmFzC"
      },
      "source": [
        "results['change_true'] = results[\"y_true\"] - results['y_true'].shift(+1, fill_value=train['close'].iloc[-1])\n",
        "results['change_pred'] = results[\"y_pred\"] - results['y_pred'].shift(+1, fill_value=train['close'].iloc[-1])\n",
        "results[\"change_dif\"] = results[\"change_true\"]-results[\"change_pred\"]"
      ],
      "execution_count": null,
      "outputs": []
    },
    {
      "cell_type": "code",
      "metadata": {
        "colab": {
          "base_uri": "https://localhost:8080/",
          "height": 419
        },
        "id": "7bY685EZl9aT",
        "outputId": "b3680f11-de7d-4e78-ed29-ff5efd079e3a"
      },
      "source": [
        "results"
      ],
      "execution_count": null,
      "outputs": [
        {
          "output_type": "execute_result",
          "data": {
            "text/html": [
              "<div>\n",
              "<style scoped>\n",
              "    .dataframe tbody tr th:only-of-type {\n",
              "        vertical-align: middle;\n",
              "    }\n",
              "\n",
              "    .dataframe tbody tr th {\n",
              "        vertical-align: top;\n",
              "    }\n",
              "\n",
              "    .dataframe thead th {\n",
              "        text-align: right;\n",
              "    }\n",
              "</style>\n",
              "<table border=\"1\" class=\"dataframe\">\n",
              "  <thead>\n",
              "    <tr style=\"text-align: right;\">\n",
              "      <th></th>\n",
              "      <th>y_true</th>\n",
              "      <th>y_pred</th>\n",
              "      <th>difference</th>\n",
              "      <th>change_true</th>\n",
              "      <th>change_pred</th>\n",
              "      <th>change_dif</th>\n",
              "    </tr>\n",
              "  </thead>\n",
              "  <tbody>\n",
              "    <tr>\n",
              "      <th>0</th>\n",
              "      <td>2680.379883</td>\n",
              "      <td>2718.393555</td>\n",
              "      <td>-38.013672</td>\n",
              "      <td>279.279785</td>\n",
              "      <td>317.293457</td>\n",
              "      <td>-38.013672</td>\n",
              "    </tr>\n",
              "    <tr>\n",
              "      <th>1</th>\n",
              "      <td>2758.820068</td>\n",
              "      <td>2681.164062</td>\n",
              "      <td>77.656006</td>\n",
              "      <td>78.440186</td>\n",
              "      <td>-37.229492</td>\n",
              "      <td>115.669678</td>\n",
              "    </tr>\n",
              "    <tr>\n",
              "      <th>2</th>\n",
              "      <td>2878.699951</td>\n",
              "      <td>2678.015381</td>\n",
              "      <td>200.684570</td>\n",
              "      <td>119.879883</td>\n",
              "      <td>-3.148682</td>\n",
              "      <td>123.028564</td>\n",
              "    </tr>\n",
              "    <tr>\n",
              "      <th>3</th>\n",
              "      <td>2890.300049</td>\n",
              "      <td>2723.872070</td>\n",
              "      <td>166.427979</td>\n",
              "      <td>11.600098</td>\n",
              "      <td>45.856689</td>\n",
              "      <td>-34.256592</td>\n",
              "    </tr>\n",
              "    <tr>\n",
              "      <th>4</th>\n",
              "      <td>3057.040039</td>\n",
              "      <td>2806.628418</td>\n",
              "      <td>250.411621</td>\n",
              "      <td>166.739990</td>\n",
              "      <td>82.756348</td>\n",
              "      <td>83.983643</td>\n",
              "    </tr>\n",
              "    <tr>\n",
              "      <th>...</th>\n",
              "      <td>...</td>\n",
              "      <td>...</td>\n",
              "      <td>...</td>\n",
              "      <td>...</td>\n",
              "      <td>...</td>\n",
              "      <td>...</td>\n",
              "    </tr>\n",
              "    <tr>\n",
              "      <th>113</th>\n",
              "      <td>3177.290039</td>\n",
              "      <td>3187.205078</td>\n",
              "      <td>-9.915039</td>\n",
              "      <td>19.290039</td>\n",
              "      <td>-14.430908</td>\n",
              "      <td>33.720947</td>\n",
              "    </tr>\n",
              "    <tr>\n",
              "      <th>114</th>\n",
              "      <td>3104.199951</td>\n",
              "      <td>3196.122559</td>\n",
              "      <td>-91.922607</td>\n",
              "      <td>-73.090088</td>\n",
              "      <td>8.917480</td>\n",
              "      <td>-82.007568</td>\n",
              "    </tr>\n",
              "    <tr>\n",
              "      <th>115</th>\n",
              "      <td>3101.489990</td>\n",
              "      <td>3211.480957</td>\n",
              "      <td>-109.990967</td>\n",
              "      <td>-2.709961</td>\n",
              "      <td>15.358398</td>\n",
              "      <td>-18.068359</td>\n",
              "    </tr>\n",
              "    <tr>\n",
              "      <th>116</th>\n",
              "      <td>3116.419922</td>\n",
              "      <td>3157.575439</td>\n",
              "      <td>-41.155518</td>\n",
              "      <td>14.929932</td>\n",
              "      <td>-53.905518</td>\n",
              "      <td>68.835449</td>\n",
              "    </tr>\n",
              "    <tr>\n",
              "      <th>117</th>\n",
              "      <td>3116.419922</td>\n",
              "      <td>3169.283936</td>\n",
              "      <td>-52.864014</td>\n",
              "      <td>0.000000</td>\n",
              "      <td>11.708496</td>\n",
              "      <td>-11.708496</td>\n",
              "    </tr>\n",
              "  </tbody>\n",
              "</table>\n",
              "<p>118 rows × 6 columns</p>\n",
              "</div>"
            ],
            "text/plain": [
              "          y_true       y_pred  difference  change_true  change_pred  change_dif\n",
              "0    2680.379883  2718.393555  -38.013672   279.279785   317.293457  -38.013672\n",
              "1    2758.820068  2681.164062   77.656006    78.440186   -37.229492  115.669678\n",
              "2    2878.699951  2678.015381  200.684570   119.879883    -3.148682  123.028564\n",
              "3    2890.300049  2723.872070  166.427979    11.600098    45.856689  -34.256592\n",
              "4    3057.040039  2806.628418  250.411621   166.739990    82.756348   83.983643\n",
              "..           ...          ...         ...          ...          ...         ...\n",
              "113  3177.290039  3187.205078   -9.915039    19.290039   -14.430908   33.720947\n",
              "114  3104.199951  3196.122559  -91.922607   -73.090088     8.917480  -82.007568\n",
              "115  3101.489990  3211.480957 -109.990967    -2.709961    15.358398  -18.068359\n",
              "116  3116.419922  3157.575439  -41.155518    14.929932   -53.905518   68.835449\n",
              "117  3116.419922  3169.283936  -52.864014     0.000000    11.708496  -11.708496\n",
              "\n",
              "[118 rows x 6 columns]"
            ]
          },
          "metadata": {
            "tags": []
          },
          "execution_count": 33
        }
      ]
    },
    {
      "cell_type": "markdown",
      "metadata": {
        "id": "zQFOsqqWQdVd"
      },
      "source": [
        "this shows the actual daily change and the predicted daily change.\n",
        "At this it actually does a pretty good job. The changes are not always in the right direction, but they are of a reasonable size."
      ]
    },
    {
      "cell_type": "code",
      "metadata": {
        "colab": {
          "base_uri": "https://localhost:8080/",
          "height": 282
        },
        "id": "HzAIjuy3pes-",
        "outputId": "b056b40c-a4ab-4d47-edaf-0d63cca2667f"
      },
      "source": [
        "results.iloc[:,3:5].plot()"
      ],
      "execution_count": null,
      "outputs": [
        {
          "output_type": "execute_result",
          "data": {
            "text/plain": [
              "<matplotlib.axes._subplots.AxesSubplot at 0x7f9cef654da0>"
            ]
          },
          "metadata": {
            "tags": []
          },
          "execution_count": 34
        },
        {
          "output_type": "display_data",
          "data": {
            "image/png": "[encoded data removed]",
            "text/plain": [
              "<Figure size 432x288 with 1 Axes>"
            ]
          },
          "metadata": {
            "tags": [],
            "needs_background": "light"
          }
        }
      ]
    },
    {
      "cell_type": "markdown",
      "metadata": {
        "id": "c-n6DxhWIAsG"
      },
      "source": [
        "Next we want to make a similar model, but we include trends from google trends. Our hypothesis is that stock prices follows the public interest in the company/product. So we download google trends data for the same period as the stock."
      ]
    },
    {
      "cell_type": "code",
      "metadata": {
        "colab": {
          "base_uri": "https://localhost:8080/"
        },
        "id": "Yh-v6lTGWluB",
        "outputId": "ec534b2f-514e-49b3-9063-39b8fb95d65e"
      },
      "source": [
        "!pip install pytrends"
      ],
      "execution_count": null,
      "outputs": [
        {
          "output_type": "stream",
          "text": [
            "Collecting pytrends\n",
            "  Downloading https://files.pythonhosted.org/packages/96/53/a4a74c33bfdbe1740183e00769377352072e64182913562daf9f5e4f1938/pytrends-4.7.3-py3-none-any.whl\n",
            "Requirement already satisfied: lxml in /usr/local/lib/python3.6/dist-packages (from pytrends) (4.6.2)\n",
            "Requirement already satisfied: requests in /usr/local/lib/python3.6/dist-packages (from pytrends) (2.23.0)\n",
            "Requirement already satisfied: pandas>=0.25 in /usr/local/lib/python3.6/dist-packages (from pytrends) (1.1.5)\n",
            "Requirement already satisfied: idna<3,>=2.5 in /usr/local/lib/python3.6/dist-packages (from requests->pytrends) (2.10)\n",
            "Requirement already satisfied: chardet<4,>=3.0.2 in /usr/local/lib/python3.6/dist-packages (from requests->pytrends) (3.0.4)\n",
            "Requirement already satisfied: certifi>=2017.4.17 in /usr/local/lib/python3.6/dist-packages (from requests->pytrends) (2020.12.5)\n",
            "Requirement already satisfied: urllib3!=1.25.0,!=1.25.1,<1.26,>=1.21.1 in /usr/local/lib/python3.6/dist-packages (from requests->pytrends) (1.24.3)\n",
            "Requirement already satisfied: numpy>=1.15.4 in /usr/local/lib/python3.6/dist-packages (from pandas>=0.25->pytrends) (1.18.5)\n",
            "Requirement already satisfied: pytz>=2017.2 in /usr/local/lib/python3.6/dist-packages (from pandas>=0.25->pytrends) (2018.9)\n",
            "Requirement already satisfied: python-dateutil>=2.7.3 in /usr/local/lib/python3.6/dist-packages (from pandas>=0.25->pytrends) (2.8.1)\n",
            "Requirement already satisfied: six>=1.5 in /usr/local/lib/python3.6/dist-packages (from python-dateutil>=2.7.3->pandas>=0.25->pytrends) (1.15.0)\n",
            "Installing collected packages: pytrends\n",
            "Successfully installed pytrends-4.7.3\n"
          ],
          "name": "stdout"
        }
      ]
    },
    {
      "cell_type": "code",
      "metadata": {
        "id": "OSrsKUA7CgIL"
      },
      "source": [
        "from pytrends import dailydata"
      ],
      "execution_count": null,
      "outputs": []
    },
    {
      "cell_type": "code",
      "metadata": {
        "id": "AR2EKNkfC2re",
        "colab": {
          "base_uri": "https://localhost:8080/"
        },
        "outputId": "b2af3a16-b5df-401f-8d67-bae9a8142d4f"
      },
      "source": [
        "amazon_data = dailydata.get_daily_data(\"amazon\", start_year=2018, start_mon=1, stop_year=2020, stop_mon=12)"
      ],
      "execution_count": null,
      "outputs": [
        {
          "output_type": "stream",
          "text": [
            "amazon:2018-01-01 2018-01-31\n",
            "amazon:2018-02-01 2018-02-28\n",
            "amazon:2018-03-01 2018-03-31\n",
            "amazon:2018-04-01 2018-04-30\n",
            "amazon:2018-05-01 2018-05-31\n",
            "amazon:2018-06-01 2018-06-30\n",
            "amazon:2018-07-01 2018-07-31\n",
            "amazon:2018-08-01 2018-08-31\n",
            "amazon:2018-09-01 2018-09-30\n",
            "amazon:2018-10-01 2018-10-31\n",
            "amazon:2018-11-01 2018-11-30\n",
            "amazon:2018-12-01 2018-12-31\n",
            "amazon:2019-01-01 2019-01-31\n",
            "amazon:2019-02-01 2019-02-28\n",
            "amazon:2019-03-01 2019-03-31\n",
            "amazon:2019-04-01 2019-04-30\n",
            "amazon:2019-05-01 2019-05-31\n",
            "amazon:2019-06-01 2019-06-30\n",
            "amazon:2019-07-01 2019-07-31\n",
            "amazon:2019-08-01 2019-08-31\n",
            "amazon:2019-09-01 2019-09-30\n",
            "amazon:2019-10-01 2019-10-31\n",
            "amazon:2019-11-01 2019-11-30\n",
            "amazon:2019-12-01 2019-12-31\n",
            "amazon:2020-01-01 2020-01-31\n",
            "amazon:2020-02-01 2020-02-29\n",
            "amazon:2020-03-01 2020-03-31\n",
            "amazon:2020-04-01 2020-04-30\n",
            "amazon:2020-05-01 2020-05-31\n",
            "amazon:2020-06-01 2020-06-30\n",
            "amazon:2020-07-01 2020-07-31\n",
            "amazon:2020-08-01 2020-08-31\n",
            "amazon:2020-09-01 2020-09-30\n",
            "amazon:2020-10-01 2020-10-31\n",
            "amazon:2020-11-01 2020-11-30\n",
            "amazon:2020-12-01 2020-12-31\n"
          ],
          "name": "stdout"
        }
      ]
    },
    {
      "cell_type": "code",
      "metadata": {
        "id": "xuqtGtjGJwD2"
      },
      "source": [
        "data = amazon_data.copy()"
      ],
      "execution_count": null,
      "outputs": []
    },
    {
      "cell_type": "markdown",
      "metadata": {
        "id": "EyCX7eTRJcYz"
      },
      "source": [
        "the data comes in different formats. We only want the collum called \"amazon\" which is normalized over the period."
      ]
    },
    {
      "cell_type": "code",
      "metadata": {
        "id": "4WfoPSVGas4D"
      },
      "source": [
        "data=data.amazon "
      ],
      "execution_count": null,
      "outputs": []
    },
    {
      "cell_type": "markdown",
      "metadata": {
        "id": "vyvURlxhLmWO"
      },
      "source": [
        "Merging the trends on the stocks dataset and rearrange the columns, so we can reuse the code from the last model."
      ]
    },
    {
      "cell_type": "code",
      "metadata": {
        "id": "Ofn4dTDaZVx6"
      },
      "source": [
        "df_merged = pd.merge(df,data,left_index=True,right_index=True)"
      ],
      "execution_count": null,
      "outputs": []
    },
    {
      "cell_type": "code",
      "metadata": {
        "id": "RIamcM-6hOXz"
      },
      "source": [
        "df_merged = df_merged[['open', 'high', 'low', 'close',\"adj close\",\"volume\",\"movement\",\"amazon\",\"close_y\"]]"
      ],
      "execution_count": null,
      "outputs": []
    },
    {
      "cell_type": "code",
      "metadata": {
        "colab": {
          "base_uri": "https://localhost:8080/",
          "height": 419
        },
        "id": "_EHQbuaTgpJA",
        "outputId": "50ed7c0b-1a4f-4fd4-8a12-1da49ffd74bb"
      },
      "source": [
        "df_merged"
      ],
      "execution_count": null,
      "outputs": [
        {
          "output_type": "execute_result",
          "data": {
            "text/html": [
              "<div>\n",
              "<style scoped>\n",
              "    .dataframe tbody tr th:only-of-type {\n",
              "        vertical-align: middle;\n",
              "    }\n",
              "\n",
              "    .dataframe tbody tr th {\n",
              "        vertical-align: top;\n",
              "    }\n",
              "\n",
              "    .dataframe thead th {\n",
              "        text-align: right;\n",
              "    }\n",
              "</style>\n",
              "<table border=\"1\" class=\"dataframe\">\n",
              "  <thead>\n",
              "    <tr style=\"text-align: right;\">\n",
              "      <th></th>\n",
              "      <th>open</th>\n",
              "      <th>high</th>\n",
              "      <th>low</th>\n",
              "      <th>close</th>\n",
              "      <th>adj close</th>\n",
              "      <th>volume</th>\n",
              "      <th>movement</th>\n",
              "      <th>amazon</th>\n",
              "      <th>close_y</th>\n",
              "    </tr>\n",
              "  </thead>\n",
              "  <tbody>\n",
              "    <tr>\n",
              "      <th>2018-03-19</th>\n",
              "      <td>1554.530029</td>\n",
              "      <td>1561.660034</td>\n",
              "      <td>1525.349976</td>\n",
              "      <td>1544.930054</td>\n",
              "      <td>1544.930054</td>\n",
              "      <td>6580800</td>\n",
              "      <td>-9.599976</td>\n",
              "      <td>53.69</td>\n",
              "      <td>1586.510010</td>\n",
              "    </tr>\n",
              "    <tr>\n",
              "      <th>2018-03-20</th>\n",
              "      <td>1550.339966</td>\n",
              "      <td>1587.000000</td>\n",
              "      <td>1545.410034</td>\n",
              "      <td>1586.510010</td>\n",
              "      <td>1586.510010</td>\n",
              "      <td>4581600</td>\n",
              "      <td>36.170044</td>\n",
              "      <td>54.87</td>\n",
              "      <td>1581.859985</td>\n",
              "    </tr>\n",
              "    <tr>\n",
              "      <th>2018-03-21</th>\n",
              "      <td>1586.449951</td>\n",
              "      <td>1590.000000</td>\n",
              "      <td>1563.170044</td>\n",
              "      <td>1581.859985</td>\n",
              "      <td>1581.859985</td>\n",
              "      <td>4750800</td>\n",
              "      <td>-4.589966</td>\n",
              "      <td>54.28</td>\n",
              "      <td>1544.920044</td>\n",
              "    </tr>\n",
              "    <tr>\n",
              "      <th>2018-03-22</th>\n",
              "      <td>1565.469971</td>\n",
              "      <td>1573.849976</td>\n",
              "      <td>1542.400024</td>\n",
              "      <td>1544.920044</td>\n",
              "      <td>1544.920044</td>\n",
              "      <td>6320600</td>\n",
              "      <td>-20.549927</td>\n",
              "      <td>51.33</td>\n",
              "      <td>1495.560059</td>\n",
              "    </tr>\n",
              "    <tr>\n",
              "      <th>2018-03-23</th>\n",
              "      <td>1539.010010</td>\n",
              "      <td>1549.020020</td>\n",
              "      <td>1495.359985</td>\n",
              "      <td>1495.560059</td>\n",
              "      <td>1495.560059</td>\n",
              "      <td>8006000</td>\n",
              "      <td>-43.449951</td>\n",
              "      <td>50.15</td>\n",
              "      <td>1555.859985</td>\n",
              "    </tr>\n",
              "    <tr>\n",
              "      <th>...</th>\n",
              "      <td>...</td>\n",
              "      <td>...</td>\n",
              "      <td>...</td>\n",
              "      <td>...</td>\n",
              "      <td>...</td>\n",
              "      <td>...</td>\n",
              "      <td>...</td>\n",
              "      <td>...</td>\n",
              "      <td>...</td>\n",
              "    </tr>\n",
              "    <tr>\n",
              "      <th>2020-12-03</th>\n",
              "      <td>3205.459961</td>\n",
              "      <td>3228.639893</td>\n",
              "      <td>3181.310059</td>\n",
              "      <td>3186.729980</td>\n",
              "      <td>3186.729980</td>\n",
              "      <td>2892000</td>\n",
              "      <td>-18.729980</td>\n",
              "      <td>90.21</td>\n",
              "      <td>3162.580078</td>\n",
              "    </tr>\n",
              "    <tr>\n",
              "      <th>2020-12-04</th>\n",
              "      <td>3198.209961</td>\n",
              "      <td>3198.209961</td>\n",
              "      <td>3158.760010</td>\n",
              "      <td>3162.580078</td>\n",
              "      <td>3162.580078</td>\n",
              "      <td>2913600</td>\n",
              "      <td>-35.629883</td>\n",
              "      <td>90.21</td>\n",
              "      <td>3158.000000</td>\n",
              "    </tr>\n",
              "    <tr>\n",
              "      <th>2020-12-07</th>\n",
              "      <td>3156.479980</td>\n",
              "      <td>3180.760010</td>\n",
              "      <td>3141.689941</td>\n",
              "      <td>3158.000000</td>\n",
              "      <td>3158.000000</td>\n",
              "      <td>2751300</td>\n",
              "      <td>1.520020</td>\n",
              "      <td>98.00</td>\n",
              "      <td>3177.290039</td>\n",
              "    </tr>\n",
              "    <tr>\n",
              "      <th>2020-12-08</th>\n",
              "      <td>3158.899902</td>\n",
              "      <td>3184.129883</td>\n",
              "      <td>3120.020020</td>\n",
              "      <td>3177.290039</td>\n",
              "      <td>3177.290039</td>\n",
              "      <td>3286300</td>\n",
              "      <td>18.390137</td>\n",
              "      <td>98.00</td>\n",
              "      <td>3104.199951</td>\n",
              "    </tr>\n",
              "    <tr>\n",
              "      <th>2020-12-09</th>\n",
              "      <td>3167.889893</td>\n",
              "      <td>3174.429932</td>\n",
              "      <td>3088.000000</td>\n",
              "      <td>3104.199951</td>\n",
              "      <td>3104.199951</td>\n",
              "      <td>4100800</td>\n",
              "      <td>-63.689941</td>\n",
              "      <td>96.00</td>\n",
              "      <td>3101.489990</td>\n",
              "    </tr>\n",
              "  </tbody>\n",
              "</table>\n",
              "<p>689 rows × 9 columns</p>\n",
              "</div>"
            ],
            "text/plain": [
              "                   open         high  ...  amazon      close_y\n",
              "2018-03-19  1554.530029  1561.660034  ...   53.69  1586.510010\n",
              "2018-03-20  1550.339966  1587.000000  ...   54.87  1581.859985\n",
              "2018-03-21  1586.449951  1590.000000  ...   54.28  1544.920044\n",
              "2018-03-22  1565.469971  1573.849976  ...   51.33  1495.560059\n",
              "2018-03-23  1539.010010  1549.020020  ...   50.15  1555.859985\n",
              "...                 ...          ...  ...     ...          ...\n",
              "2020-12-03  3205.459961  3228.639893  ...   90.21  3162.580078\n",
              "2020-12-04  3198.209961  3198.209961  ...   90.21  3158.000000\n",
              "2020-12-07  3156.479980  3180.760010  ...   98.00  3177.290039\n",
              "2020-12-08  3158.899902  3184.129883  ...   98.00  3104.199951\n",
              "2020-12-09  3167.889893  3174.429932  ...   96.00  3101.489990\n",
              "\n",
              "[689 rows x 9 columns]"
            ]
          },
          "metadata": {
            "tags": []
          },
          "execution_count": 42
        }
      ]
    },
    {
      "cell_type": "code",
      "metadata": {
        "id": "f4llddMTfNEF"
      },
      "source": [
        "train2 = df_merged.iloc[:-test_size,:].copy() \n",
        "test2 = df_merged.iloc[-test_size:,:].copy()"
      ],
      "execution_count": null,
      "outputs": []
    },
    {
      "cell_type": "code",
      "metadata": {
        "id": "mk2aGoV6eB-a"
      },
      "source": [
        "X_train2 = train2.iloc[:,:-1].values\n",
        "y_train2 = train2.iloc[:,-1].values\n",
        "\n",
        "X_test2 = test2.iloc[:,:-1].values\n",
        "y_test2 = test2.iloc[:,-1].values"
      ],
      "execution_count": null,
      "outputs": []
    },
    {
      "cell_type": "code",
      "metadata": {
        "id": "OvU9vYRpd17z"
      },
      "source": [
        "X_train2 = x_scaler.fit_transform(X_train2)\n",
        "y_train2 = y_scaler.fit_transform(y_train2.reshape(-1,1))\n",
        "\n",
        "X_test2 = x_scaler.transform(X_test2)\n",
        "y_test2 = y_scaler.transform(y_test2.reshape(-1,1))"
      ],
      "execution_count": null,
      "outputs": []
    },
    {
      "cell_type": "code",
      "metadata": {
        "id": "CHpCAgsVeJgf"
      },
      "source": [
        "generator2 = TimeseriesGenerator(X_train2, y_train2, length=n_input, batch_size=b_size)"
      ],
      "execution_count": null,
      "outputs": []
    },
    {
      "cell_type": "code",
      "metadata": {
        "id": "vRfU8eoii8fF"
      },
      "source": [
        "n_features2 = X_train2.shape[1] # how many predictors/Xs/features we have to predict y"
      ],
      "execution_count": null,
      "outputs": []
    },
    {
      "cell_type": "markdown",
      "metadata": {
        "id": "LfFZm48GL9Dp"
      },
      "source": [
        "The same model as before. Only difference it the addition of google trends."
      ]
    },
    {
      "cell_type": "code",
      "metadata": {
        "colab": {
          "base_uri": "https://localhost:8080/"
        },
        "id": "0qluZOv2dnuw",
        "outputId": "e0ee9cf2-2122-4300-f027-baab36c10c2a"
      },
      "source": [
        "model2 = Sequential()\n",
        "model2.add(LSTM(50, activation='relu',return_sequences=True, input_shape=(n_input, n_features2)))\n",
        "model2.add(LSTM(50, activation='relu'))\n",
        "model2.add(Dense(1))\n",
        "model2.compile(optimizer='adam', loss='mse')\n",
        "model2.summary()"
      ],
      "execution_count": null,
      "outputs": [
        {
          "output_type": "stream",
          "text": [
            "WARNING:tensorflow:Layer lstm_2 will not use cuDNN kernel since it doesn't meet the cuDNN kernel criteria. It will use generic GPU kernel as fallback when running on GPU\n",
            "WARNING:tensorflow:Layer lstm_3 will not use cuDNN kernel since it doesn't meet the cuDNN kernel criteria. It will use generic GPU kernel as fallback when running on GPU\n",
            "Model: \"sequential_1\"\n",
            "_________________________________________________________________\n",
            "Layer (type)                 Output Shape              Param #   \n",
            "=================================================================\n",
            "lstm_2 (LSTM)                (None, 20, 50)            11800     \n",
            "_________________________________________________________________\n",
            "lstm_3 (LSTM)                (None, 50)                20200     \n",
            "_________________________________________________________________\n",
            "dense_1 (Dense)              (None, 1)                 51        \n",
            "=================================================================\n",
            "Total params: 32,051\n",
            "Trainable params: 32,051\n",
            "Non-trainable params: 0\n",
            "_________________________________________________________________\n"
          ],
          "name": "stdout"
        }
      ]
    },
    {
      "cell_type": "code",
      "metadata": {
        "colab": {
          "base_uri": "https://localhost:8080/"
        },
        "id": "usqt7uChecjA",
        "outputId": "edcc762b-c21d-4f44-9587-7d6705523d4f"
      },
      "source": [
        "test_generator2 = TimeseriesGenerator(X_test2, np.zeros(len(X_test2)), length=n_input, batch_size=b_size)\n",
        "print(test_generator2[0][0].shape)"
      ],
      "execution_count": null,
      "outputs": [
        {
          "output_type": "stream",
          "text": [
            "(30, 20, 8)\n"
          ],
          "name": "stdout"
        }
      ]
    },
    {
      "cell_type": "code",
      "metadata": {
        "id": "0IK7PdxbeU1A"
      },
      "source": [
        "model2.fit(generator2,epochs=epochs,verbose=1,validation_data=test_generator2)"
      ],
      "execution_count": null,
      "outputs": []
    },
    {
      "cell_type": "code",
      "metadata": {
        "colab": {
          "base_uri": "https://localhost:8080/"
        },
        "id": "69_Rw14M5n7C",
        "outputId": "81609f6d-312e-4046-e456-c8219888f0e2"
      },
      "source": [
        "model2.evaluate(test_generator2)"
      ],
      "execution_count": null,
      "outputs": [
        {
          "output_type": "stream",
          "text": [
            "4/4 [==============================] - 0s 6ms/step - loss: 8.7233\n"
          ],
          "name": "stdout"
        },
        {
          "output_type": "execute_result",
          "data": {
            "text/plain": [
              "8.723335266113281"
            ]
          },
          "metadata": {
            "tags": []
          },
          "execution_count": 51
        }
      ]
    },
    {
      "cell_type": "code",
      "metadata": {
        "colab": {
          "base_uri": "https://localhost:8080/"
        },
        "id": "Ut8ZIXwgfY0r",
        "outputId": "8684f575-a903-46c0-eb11-be33835562a9"
      },
      "source": [
        "y_pred_scaled2 = model2.predict(test_generator2)\n",
        "y_pred2 = y_scaler.inverse_transform(y_pred_scaled2)\n",
        "y_test2 = y_scaler.inverse_transform(y_test2)\n",
        "results2 = pd.DataFrame({'y_true':y_test2.flatten()[n_input:],'y_pred':y_pred2.flatten()})\n",
        "print(results2)"
      ],
      "execution_count": null,
      "outputs": [
        {
          "output_type": "stream",
          "text": [
            "          y_true       y_pred\n",
            "0    2754.580078  2657.918701\n",
            "1    2692.870117  2668.937988\n",
            "2    2680.379883  2696.924072\n",
            "3    2758.820068  2685.837402\n",
            "4    2878.699951  2696.384033\n",
            "..           ...          ...\n",
            "113  3162.580078  3786.461670\n",
            "114  3158.000000  3886.912598\n",
            "115  3177.290039  3930.269775\n",
            "116  3104.199951  4015.585205\n",
            "117  3101.489990  3963.584717\n",
            "\n",
            "[118 rows x 2 columns]\n"
          ],
          "name": "stdout"
        }
      ]
    },
    {
      "cell_type": "markdown",
      "metadata": {
        "id": "MkcwLBaIPj_C"
      },
      "source": [
        "The results are not any better tbh. Part of the problem might be that amazon trends during christmas every year, which might confuse the model more than it helps. Also amazon makes money of a lot of different things (eg. AWS), which probalby affects the stock price more than the trend.  "
      ]
    },
    {
      "cell_type": "code",
      "metadata": {
        "colab": {
          "base_uri": "https://localhost:8080/",
          "height": 282
        },
        "id": "McxiW2wMfcTT",
        "outputId": "f2eb5145-b1ef-4468-e3ae-5fb1f78d7d0c"
      },
      "source": [
        "results2.plot()"
      ],
      "execution_count": null,
      "outputs": [
        {
          "output_type": "execute_result",
          "data": {
            "text/plain": [
              "<matplotlib.axes._subplots.AxesSubplot at 0x7f9ced746b70>"
            ]
          },
          "metadata": {
            "tags": []
          },
          "execution_count": 53
        },
        {
          "output_type": "display_data",
          "data": {
            "image/png": "[encoded data removed]",
            "text/plain": [
              "<Figure size 432x288 with 1 Axes>"
            ]
          },
          "metadata": {
            "tags": [],
            "needs_background": "light"
          }
        }
      ]
    },
    {
      "cell_type": "code",
      "metadata": {
        "id": "JJ8YdJQxqqD-"
      },
      "source": [
        "results2['change_true'] = results2[\"y_true\"] - results2['y_true'].shift(+1, fill_value=train['close'].iloc[-1])\n",
        "results2['change_pred'] = results2[\"y_pred\"] - results2['y_pred'].shift(+1, fill_value=train['close'].iloc[-1])\n",
        "results2[\"change_dif\"] = results2[\"change_true\"]-results2[\"change_pred\"]"
      ],
      "execution_count": null,
      "outputs": []
    },
    {
      "cell_type": "code",
      "metadata": {
        "colab": {
          "base_uri": "https://localhost:8080/",
          "height": 419
        },
        "id": "kgJyT5BvITYq",
        "outputId": "18e5d374-4e89-4b69-a03c-f022d799e8a1"
      },
      "source": [
        "test2"
      ],
      "execution_count": null,
      "outputs": [
        {
          "output_type": "execute_result",
          "data": {
            "text/html": [
              "<div>\n",
              "<style scoped>\n",
              "    .dataframe tbody tr th:only-of-type {\n",
              "        vertical-align: middle;\n",
              "    }\n",
              "\n",
              "    .dataframe tbody tr th {\n",
              "        vertical-align: top;\n",
              "    }\n",
              "\n",
              "    .dataframe thead th {\n",
              "        text-align: right;\n",
              "    }\n",
              "</style>\n",
              "<table border=\"1\" class=\"dataframe\">\n",
              "  <thead>\n",
              "    <tr style=\"text-align: right;\">\n",
              "      <th></th>\n",
              "      <th>open</th>\n",
              "      <th>high</th>\n",
              "      <th>low</th>\n",
              "      <th>close</th>\n",
              "      <th>adj close</th>\n",
              "      <th>volume</th>\n",
              "      <th>movement</th>\n",
              "      <th>amazon</th>\n",
              "      <th>close_y</th>\n",
              "    </tr>\n",
              "  </thead>\n",
              "  <tbody>\n",
              "    <tr>\n",
              "      <th>2020-05-27</th>\n",
              "      <td>2404.989990</td>\n",
              "      <td>2413.580078</td>\n",
              "      <td>2330.000000</td>\n",
              "      <td>2410.389893</td>\n",
              "      <td>2410.389893</td>\n",
              "      <td>5056900</td>\n",
              "      <td>5.399902</td>\n",
              "      <td>74.76</td>\n",
              "      <td>2401.100098</td>\n",
              "    </tr>\n",
              "    <tr>\n",
              "      <th>2020-05-28</th>\n",
              "      <td>2384.330078</td>\n",
              "      <td>2436.969971</td>\n",
              "      <td>2378.229980</td>\n",
              "      <td>2401.100098</td>\n",
              "      <td>2401.100098</td>\n",
              "      <td>3190200</td>\n",
              "      <td>16.770020</td>\n",
              "      <td>76.44</td>\n",
              "      <td>2442.370117</td>\n",
              "    </tr>\n",
              "    <tr>\n",
              "      <th>2020-05-29</th>\n",
              "      <td>2415.939941</td>\n",
              "      <td>2442.370117</td>\n",
              "      <td>2398.199951</td>\n",
              "      <td>2442.370117</td>\n",
              "      <td>2442.370117</td>\n",
              "      <td>3529300</td>\n",
              "      <td>26.430176</td>\n",
              "      <td>68.88</td>\n",
              "      <td>2471.040039</td>\n",
              "    </tr>\n",
              "    <tr>\n",
              "      <th>2020-06-01</th>\n",
              "      <td>2448.000000</td>\n",
              "      <td>2476.929932</td>\n",
              "      <td>2444.169922</td>\n",
              "      <td>2471.040039</td>\n",
              "      <td>2471.040039</td>\n",
              "      <td>2928900</td>\n",
              "      <td>23.040039</td>\n",
              "      <td>69.66</td>\n",
              "      <td>2472.409912</td>\n",
              "    </tr>\n",
              "    <tr>\n",
              "      <th>2020-06-02</th>\n",
              "      <td>2467.000000</td>\n",
              "      <td>2473.530029</td>\n",
              "      <td>2445.310059</td>\n",
              "      <td>2472.409912</td>\n",
              "      <td>2472.409912</td>\n",
              "      <td>2529900</td>\n",
              "      <td>5.409912</td>\n",
              "      <td>71.28</td>\n",
              "      <td>2478.399902</td>\n",
              "    </tr>\n",
              "    <tr>\n",
              "      <th>...</th>\n",
              "      <td>...</td>\n",
              "      <td>...</td>\n",
              "      <td>...</td>\n",
              "      <td>...</td>\n",
              "      <td>...</td>\n",
              "      <td>...</td>\n",
              "      <td>...</td>\n",
              "      <td>...</td>\n",
              "      <td>...</td>\n",
              "    </tr>\n",
              "    <tr>\n",
              "      <th>2020-12-03</th>\n",
              "      <td>3205.459961</td>\n",
              "      <td>3228.639893</td>\n",
              "      <td>3181.310059</td>\n",
              "      <td>3186.729980</td>\n",
              "      <td>3186.729980</td>\n",
              "      <td>2892000</td>\n",
              "      <td>-18.729980</td>\n",
              "      <td>90.21</td>\n",
              "      <td>3162.580078</td>\n",
              "    </tr>\n",
              "    <tr>\n",
              "      <th>2020-12-04</th>\n",
              "      <td>3198.209961</td>\n",
              "      <td>3198.209961</td>\n",
              "      <td>3158.760010</td>\n",
              "      <td>3162.580078</td>\n",
              "      <td>3162.580078</td>\n",
              "      <td>2913600</td>\n",
              "      <td>-35.629883</td>\n",
              "      <td>90.21</td>\n",
              "      <td>3158.000000</td>\n",
              "    </tr>\n",
              "    <tr>\n",
              "      <th>2020-12-07</th>\n",
              "      <td>3156.479980</td>\n",
              "      <td>3180.760010</td>\n",
              "      <td>3141.689941</td>\n",
              "      <td>3158.000000</td>\n",
              "      <td>3158.000000</td>\n",
              "      <td>2751300</td>\n",
              "      <td>1.520020</td>\n",
              "      <td>98.00</td>\n",
              "      <td>3177.290039</td>\n",
              "    </tr>\n",
              "    <tr>\n",
              "      <th>2020-12-08</th>\n",
              "      <td>3158.899902</td>\n",
              "      <td>3184.129883</td>\n",
              "      <td>3120.020020</td>\n",
              "      <td>3177.290039</td>\n",
              "      <td>3177.290039</td>\n",
              "      <td>3286300</td>\n",
              "      <td>18.390137</td>\n",
              "      <td>98.00</td>\n",
              "      <td>3104.199951</td>\n",
              "    </tr>\n",
              "    <tr>\n",
              "      <th>2020-12-09</th>\n",
              "      <td>3167.889893</td>\n",
              "      <td>3174.429932</td>\n",
              "      <td>3088.000000</td>\n",
              "      <td>3104.199951</td>\n",
              "      <td>3104.199951</td>\n",
              "      <td>4100800</td>\n",
              "      <td>-63.689941</td>\n",
              "      <td>96.00</td>\n",
              "      <td>3101.489990</td>\n",
              "    </tr>\n",
              "  </tbody>\n",
              "</table>\n",
              "<p>138 rows × 9 columns</p>\n",
              "</div>"
            ],
            "text/plain": [
              "                   open         high  ...  amazon      close_y\n",
              "2020-05-27  2404.989990  2413.580078  ...   74.76  2401.100098\n",
              "2020-05-28  2384.330078  2436.969971  ...   76.44  2442.370117\n",
              "2020-05-29  2415.939941  2442.370117  ...   68.88  2471.040039\n",
              "2020-06-01  2448.000000  2476.929932  ...   69.66  2472.409912\n",
              "2020-06-02  2467.000000  2473.530029  ...   71.28  2478.399902\n",
              "...                 ...          ...  ...     ...          ...\n",
              "2020-12-03  3205.459961  3228.639893  ...   90.21  3162.580078\n",
              "2020-12-04  3198.209961  3198.209961  ...   90.21  3158.000000\n",
              "2020-12-07  3156.479980  3180.760010  ...   98.00  3177.290039\n",
              "2020-12-08  3158.899902  3184.129883  ...   98.00  3104.199951\n",
              "2020-12-09  3167.889893  3174.429932  ...   96.00  3101.489990\n",
              "\n",
              "[138 rows x 9 columns]"
            ]
          },
          "metadata": {
            "tags": []
          },
          "execution_count": 60
        }
      ]
    },
    {
      "cell_type": "code",
      "metadata": {
        "colab": {
          "base_uri": "https://localhost:8080/",
          "height": 419
        },
        "id": "_RlpOdxt_0wh",
        "outputId": "21fd7fbc-2da8-42f4-b503-5a0d9fc0b816"
      },
      "source": [
        "results2"
      ],
      "execution_count": null,
      "outputs": [
        {
          "output_type": "execute_result",
          "data": {
            "text/html": [
              "<div>\n",
              "<style scoped>\n",
              "    .dataframe tbody tr th:only-of-type {\n",
              "        vertical-align: middle;\n",
              "    }\n",
              "\n",
              "    .dataframe tbody tr th {\n",
              "        vertical-align: top;\n",
              "    }\n",
              "\n",
              "    .dataframe thead th {\n",
              "        text-align: right;\n",
              "    }\n",
              "</style>\n",
              "<table border=\"1\" class=\"dataframe\">\n",
              "  <thead>\n",
              "    <tr style=\"text-align: right;\">\n",
              "      <th></th>\n",
              "      <th>y_true</th>\n",
              "      <th>y_pred</th>\n",
              "      <th>change_true</th>\n",
              "      <th>change_pred</th>\n",
              "      <th>change_dif</th>\n",
              "    </tr>\n",
              "  </thead>\n",
              "  <tbody>\n",
              "    <tr>\n",
              "      <th>0</th>\n",
              "      <td>2754.580078</td>\n",
              "      <td>2657.918701</td>\n",
              "      <td>353.479980</td>\n",
              "      <td>256.818604</td>\n",
              "      <td>96.661377</td>\n",
              "    </tr>\n",
              "    <tr>\n",
              "      <th>1</th>\n",
              "      <td>2692.870117</td>\n",
              "      <td>2668.937988</td>\n",
              "      <td>-61.709961</td>\n",
              "      <td>11.019287</td>\n",
              "      <td>-72.729248</td>\n",
              "    </tr>\n",
              "    <tr>\n",
              "      <th>2</th>\n",
              "      <td>2680.379883</td>\n",
              "      <td>2696.924072</td>\n",
              "      <td>-12.490234</td>\n",
              "      <td>27.986084</td>\n",
              "      <td>-40.476318</td>\n",
              "    </tr>\n",
              "    <tr>\n",
              "      <th>3</th>\n",
              "      <td>2758.820068</td>\n",
              "      <td>2685.837402</td>\n",
              "      <td>78.440186</td>\n",
              "      <td>-11.086670</td>\n",
              "      <td>89.526855</td>\n",
              "    </tr>\n",
              "    <tr>\n",
              "      <th>4</th>\n",
              "      <td>2878.699951</td>\n",
              "      <td>2696.384033</td>\n",
              "      <td>119.879883</td>\n",
              "      <td>10.546631</td>\n",
              "      <td>109.333252</td>\n",
              "    </tr>\n",
              "    <tr>\n",
              "      <th>...</th>\n",
              "      <td>...</td>\n",
              "      <td>...</td>\n",
              "      <td>...</td>\n",
              "      <td>...</td>\n",
              "      <td>...</td>\n",
              "    </tr>\n",
              "    <tr>\n",
              "      <th>113</th>\n",
              "      <td>3162.580078</td>\n",
              "      <td>3786.461670</td>\n",
              "      <td>-24.149902</td>\n",
              "      <td>79.713379</td>\n",
              "      <td>-103.863281</td>\n",
              "    </tr>\n",
              "    <tr>\n",
              "      <th>114</th>\n",
              "      <td>3158.000000</td>\n",
              "      <td>3886.912598</td>\n",
              "      <td>-4.580078</td>\n",
              "      <td>100.450928</td>\n",
              "      <td>-105.031006</td>\n",
              "    </tr>\n",
              "    <tr>\n",
              "      <th>115</th>\n",
              "      <td>3177.290039</td>\n",
              "      <td>3930.269775</td>\n",
              "      <td>19.290039</td>\n",
              "      <td>43.357178</td>\n",
              "      <td>-24.067139</td>\n",
              "    </tr>\n",
              "    <tr>\n",
              "      <th>116</th>\n",
              "      <td>3104.199951</td>\n",
              "      <td>4015.585205</td>\n",
              "      <td>-73.090088</td>\n",
              "      <td>85.315430</td>\n",
              "      <td>-158.405518</td>\n",
              "    </tr>\n",
              "    <tr>\n",
              "      <th>117</th>\n",
              "      <td>3101.489990</td>\n",
              "      <td>3963.584717</td>\n",
              "      <td>-2.709961</td>\n",
              "      <td>-52.000488</td>\n",
              "      <td>49.290527</td>\n",
              "    </tr>\n",
              "  </tbody>\n",
              "</table>\n",
              "<p>118 rows × 5 columns</p>\n",
              "</div>"
            ],
            "text/plain": [
              "          y_true       y_pred  change_true  change_pred  change_dif\n",
              "0    2754.580078  2657.918701   353.479980   256.818604   96.661377\n",
              "1    2692.870117  2668.937988   -61.709961    11.019287  -72.729248\n",
              "2    2680.379883  2696.924072   -12.490234    27.986084  -40.476318\n",
              "3    2758.820068  2685.837402    78.440186   -11.086670   89.526855\n",
              "4    2878.699951  2696.384033   119.879883    10.546631  109.333252\n",
              "..           ...          ...          ...          ...         ...\n",
              "113  3162.580078  3786.461670   -24.149902    79.713379 -103.863281\n",
              "114  3158.000000  3886.912598    -4.580078   100.450928 -105.031006\n",
              "115  3177.290039  3930.269775    19.290039    43.357178  -24.067139\n",
              "116  3104.199951  4015.585205   -73.090088    85.315430 -158.405518\n",
              "117  3101.489990  3963.584717    -2.709961   -52.000488   49.290527\n",
              "\n",
              "[118 rows x 5 columns]"
            ]
          },
          "metadata": {
            "tags": []
          },
          "execution_count": 55
        }
      ]
    },
    {
      "cell_type": "code",
      "metadata": {
        "colab": {
          "base_uri": "https://localhost:8080/",
          "height": 282
        },
        "id": "kwN-HbA-q4oJ",
        "outputId": "44a010e0-cf59-4199-a0e8-32d390705d87"
      },
      "source": [
        "results2.iloc[:,2:4].plot()"
      ],
      "execution_count": null,
      "outputs": [
        {
          "output_type": "execute_result",
          "data": {
            "text/plain": [
              "<matplotlib.axes._subplots.AxesSubplot at 0x7f9ced666e80>"
            ]
          },
          "metadata": {
            "tags": []
          },
          "execution_count": 56
        },
        {
          "output_type": "display_data",
          "data": {
            "image/png": "[encoded data removed]",
            "text/plain": [
              "<Figure size 432x288 with 1 Axes>"
            ]
          },
          "metadata": {
            "tags": [],
            "needs_background": "light"
          }
        }
      ]
    },
    {
      "cell_type": "code",
      "metadata": {
        "colab": {
          "base_uri": "https://localhost:8080/"
        },
        "id": "CXdcxUveH9S6",
        "outputId": "ab806f75-211f-40de-ac57-fac101fbf1b9"
      },
      "source": [
        "test2['close'].iloc[n_input]"
      ],
      "execution_count": null,
      "outputs": [
        {
          "output_type": "execute_result",
          "data": {
            "text/plain": [
              "2734.39990234375"
            ]
          },
          "metadata": {
            "tags": []
          },
          "execution_count": 63
        }
      ]
    }
  ]
}